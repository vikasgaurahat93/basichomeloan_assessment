{
 "cells": [
  {
   "cell_type": "markdown",
   "id": "206da2a4-b908-4f75-9989-161797519735",
   "metadata": {},
   "source": [
    "# -----------------import the all requirements library-------------------"
   ]
  },
  {
   "cell_type": "code",
   "execution_count": null,
   "id": "a9bc3678-904d-4a6c-9aa3-e3fe75acba9e",
   "metadata": {},
   "outputs": [],
   "source": [
    "import pandas as pd # For Data manipulation process.\n",
    "import plotly.express as px # Data visualization library for easy quick plots\n",
    "import plotly.graph_objects as go # for Advanced and customizable\n",
    "import plotly.io as pio   #for customize Graph templates\n",
    "import plotly.colors as colors\n",
    "pio.templates.default = \"plotly_white\"  # For Default theme white"
   ]
  },
  {
   "cell_type": "markdown",
   "id": "19e757f4-5415-4e5d-a06c-bd6a6a96f96a",
   "metadata": {},
   "source": [
    "# ---------------------- read the csv file ------------------"
   ]
  },
  {
   "cell_type": "code",
   "execution_count": null,
   "id": "c0833068-8add-4b2e-8624-87ffcfa1d2b7",
   "metadata": {},
   "outputs": [],
   "source": [
    "flie_location='C:\\\\Users\\\\vikas\\\\Downloads\\\\superstore_data.csv'\n",
    "data = pd.read_csv(flie_location, encoding='latin-1')"
   ]
  },
  {
   "cell_type": "code",
   "execution_count": null,
   "id": "366554a7-7640-4baf-8857-1a2862d0e8b2",
   "metadata": {},
   "outputs": [],
   "source": [
    "data.shape #find the row and column"
   ]
  },
  {
   "cell_type": "code",
   "execution_count": null,
   "id": "8044b357-2ab8-4c1b-b438-0b22ca84acdb",
   "metadata": {},
   "outputs": [],
   "source": [
    "#drop unrelated/blank columns\n",
    "data.drop(['status','unnamed'],axis=1,inplace=True)"
   ]
  },
  {
   "cell_type": "code",
   "execution_count": null,
   "id": "b2ad3195-5f09-43c1-ad7d-3107eccd0eab",
   "metadata": {},
   "outputs": [],
   "source": [
    "pd.isnull(data).sum()"
   ]
  },
  {
   "cell_type": "code",
   "execution_count": null,
   "id": "22893b4f-3c40-448a-b74c-c2677a5bf7ac",
   "metadata": {},
   "outputs": [],
   "source": [
    "#drop null value\n",
    "data.dropna(inplace=True)"
   ]
  },
  {
   "cell_type": "code",
   "execution_count": null,
   "id": "66c7239a-ac19-439a-ab46-14e2c7c11670",
   "metadata": {},
   "outputs": [],
   "source": [
    "#change data type \n",
    "data['Region']=data['Region'].astype('str')"
   ]
  },
  {
   "cell_type": "code",
   "execution_count": null,
   "id": "b0206205-bc86-407b-984b-cf65415e9435",
   "metadata": {},
   "outputs": [],
   "source": [
    "data['Region'].dtypes"
   ]
  },
  {
   "cell_type": "markdown",
   "id": "85a8e956-888d-4883-98db-719074ace4e6",
   "metadata": {},
   "source": [
    "# ------------------Converting Date Columns---------------------"
   ]
  },
  {
   "cell_type": "code",
   "execution_count": null,
   "id": "01a36803-ddf4-450f-9087-20605376c965",
   "metadata": {},
   "outputs": [],
   "source": [
    "#Date Conversion: Order Date and Ship Date columns convert into datetime format for date-based analysis.\n",
    "data['Order Date'] = pd.to_datetime(data['Order Date'])\n",
    "data['Ship Date'] = pd.to_datetime(data['Ship Date']) \n"
   ]
  },
  {
   "cell_type": "markdown",
   "id": "fe697072-a548-429e-a462-db4ea8327d41",
   "metadata": {},
   "source": [
    "# ----------------Adding New Date-Based Columns ---------------------"
   ]
  },
  {
   "cell_type": "code",
   "execution_count": null,
   "id": "2914f13c-3bc1-4b15-987e-91fac7ab7577",
   "metadata": {},
   "outputs": [],
   "source": [
    "data['Order Month'] = data['Order Date'].dt.month \n",
    "data['Order Year'] = data['Order Date'].dt.year\n",
    "data['Order Day of Week'] = data['Order Date'].dt.dayofweek\n",
    "\n",
    "#Order Month:  extract month from Order date.\n",
    "#Order Year: extract year from Order date.\n",
    "#Order Day of Week: extract day week from Order date(0 for Monday, 6 for Sunday) "
   ]
  },
  {
   "cell_type": "code",
   "execution_count": null,
   "id": "ef515c31-c33a-421c-bcf7-9861afe7ec9f",
   "metadata": {},
   "outputs": [],
   "source": [
    "data.head()"
   ]
  },
  {
   "cell_type": "markdown",
   "id": "823ac41a-2d57-408d-86f7-000beece021c",
   "metadata": {},
   "source": [
    "# -----------Monthly Sales Analysis ------------------------\n"
   ]
  },
  {
   "cell_type": "code",
   "execution_count": null,
   "id": "5de26775-033d-4dc1-a77f-2a02c4af4f46",
   "metadata": {},
   "outputs": [],
   "source": [
    "sales_by_month = data.groupby('Order Month')['Sales'].sum().reset_index()\n",
    "fig = px.line(sales_by_month, \n",
    "              x='Order Month', \n",
    "              y='Sales', \n",
    "              title='Monthly Sales Analysis')\n",
    "fig.show()\n",
    "\n",
    "#Data Grouping:\n",
    "#data.groupby('Order Month')['Sales'].sum() total sales of every month.\n",
    "#.reset_index() put data on structured format .\n",
    "#px.line: for line chart .\n",
    "#fig.show(): for Graph display."
   ]
  },
  {
   "cell_type": "markdown",
   "id": "d3b3d8ec-7e90-48c3-8f2a-4a84d11c466e",
   "metadata": {},
   "source": [
    "# --------------Sales Analysis by Category---------------------"
   ]
  },
  {
   "cell_type": "code",
   "execution_count": null,
   "id": "232890ef-e198-4b2d-b299-0e727f03c261",
   "metadata": {},
   "outputs": [],
   "source": [
    "sales_by_category = data.groupby('Category')['Sales'].sum().reset_index()\n",
    "\n",
    "\n",
    "fig = px.pie(sales_by_category, \n",
    "             values='Sales', \n",
    "             names='Category', \n",
    "             hole=0.5, \n",
    "             color_discrete_sequence=px.colors.qualitative.Pastel)\n",
    "\n",
    "fig.update_traces(textposition='inside', textinfo='percent+label')\n",
    "fig.update_layout(title_text='Sales Analysis by Category', title_font=dict(size=24))\n",
    "\n",
    "fig.show()\n",
    "\n",
    "#groupby('Category'): grouped accoring Category-wise sales .\n",
    "#Pie Chart:\n",
    "#px.pie: Sales proportions shows in pie chart .\n",
    "#hole=0.5: for Donut-style .\n",
    "#Pastel Colors: for soft color."
   ]
  },
  {
   "cell_type": "markdown",
   "id": "8c802a42-7521-4511-9f5f-260974217883",
   "metadata": {},
   "source": [
    "# ------------------Sales Analysis by Sub-Category ------------------------\n"
   ]
  },
  {
   "cell_type": "code",
   "execution_count": null,
   "id": "cdffb1d3-c9e1-4b9f-a765-69a37f415c19",
   "metadata": {},
   "outputs": [],
   "source": [
    "sales_by_subcategory = data.groupby('Sub-Category')['Sales'].sum().reset_index()\n",
    "fig = px.bar(sales_by_subcategory, \n",
    "             x='Sub-Category', \n",
    "             y='Sales', \n",
    "             title='Sales Analysis by Sub-Category')\n",
    "fig.show()"
   ]
  },
  {
   "cell_type": "markdown",
   "id": "3ba330c2-6b7d-4e60-b5c5-e2e882f8e6f1",
   "metadata": {},
   "source": [
    "# ----------------Monthly Profit Analysis ----------------------\n"
   ]
  },
  {
   "cell_type": "code",
   "execution_count": null,
   "id": "f970c1d6-99ae-4ba7-9ea4-f56c17651948",
   "metadata": {},
   "outputs": [],
   "source": [
    "profit_by_month = data.groupby('Order Month')['Profit'].sum().reset_index()\n",
    "fig = px.line(profit_by_month, \n",
    "              x='Order Month', \n",
    "              y='Profit', \n",
    "              title='Monthly Profit Analysis')\n",
    "fig.show()\n"
   ]
  },
  {
   "cell_type": "markdown",
   "id": "a17b6df3-d4eb-4476-a3b6-10ccb7191123",
   "metadata": {},
   "source": [
    "# ------Profit Analysis by Category----------"
   ]
  },
  {
   "cell_type": "code",
   "execution_count": null,
   "id": "c033e80d-6df2-4d14-aa5b-88a0b893ee7c",
   "metadata": {},
   "outputs": [],
   "source": [
    "profit_by_category = data.groupby('Category')['Profit'].sum().reset_index()\n",
    "\n",
    "fig = px.pie(profit_by_category, \n",
    "             values='Profit', \n",
    "             names='Category', \n",
    "             hole=0.5, \n",
    "             color_discrete_sequence=px.colors.qualitative.Pastel)\n",
    "\n",
    "fig.update_traces(textposition='inside', textinfo='percent+label')\n",
    "fig.update_layout(title_text='Profit Analysis by Category', title_font=dict(size=24))\n",
    "\n",
    "fig.show()"
   ]
  },
  {
   "cell_type": "markdown",
   "id": "84decf63-c43d-4d35-9f31-66f98cd074ea",
   "metadata": {},
   "source": [
    "# ------------Profit Analysis by Sub-Category-----------------"
   ]
  },
  {
   "cell_type": "code",
   "execution_count": null,
   "id": "9e1a89a5-8e8a-4584-af62-cc57e805dbbc",
   "metadata": {},
   "outputs": [],
   "source": [
    "profit_by_subcategory = data.groupby('Sub-Category')['Profit'].sum().reset_index()\n",
    "fig = px.bar(profit_by_subcategory, x='Sub-Category', \n",
    "             y='Profit', \n",
    "             title='Profit Analysis by Sub-Category')\n",
    "fig.show()"
   ]
  },
  {
   "cell_type": "markdown",
   "id": "869d8e35-8d84-49df-bb60-5789998cca7c",
   "metadata": {},
   "source": [
    "# -----Sales and Profit Analysis by Customer Segment-----"
   ]
  },
  {
   "cell_type": "code",
   "execution_count": null,
   "id": "b6b4b219-7fc7-4fab-b597-4d6343f0c235",
   "metadata": {},
   "outputs": [],
   "source": [
    "sales_profit_by_segment = data.groupby('Segment').agg({'Sales': 'sum', 'Profit': 'sum'}).reset_index()\n",
    "\n",
    "color_palette = colors.qualitative.Pastel\n",
    "\n",
    "fig = go.Figure()\n",
    "fig.add_trace(go.Bar(x=sales_profit_by_segment['Segment'], \n",
    "                     y=sales_profit_by_segment['Sales'], \n",
    "                     name='Sales',\n",
    "                     marker_color=color_palette[0]))\n",
    "\n",
    "fig.add_trace(go.Bar(x=sales_profit_by_segment['Segment'], \n",
    "                     y=sales_profit_by_segment['Profit'], \n",
    "                     name='Profit',\n",
    "                     marker_color=color_palette[1]))\n",
    "\n",
    "fig.update_layout(title='Sales and Profit Analysis by Customer Segment',\n",
    "                  xaxis_title='Customer Segment', yaxis_title='Amount')\n",
    "\n",
    "fig.show()"
   ]
  },
  {
   "cell_type": "code",
   "execution_count": null,
   "id": "887b795f-1a1c-433e-a5d6-3ee958f6bf9b",
   "metadata": {},
   "outputs": [],
   "source": [
    "# ** ------analyse sales-to-profit ratio------------**"
   ]
  },
  {
   "cell_type": "code",
   "execution_count": null,
   "id": "24c4abcf-5518-4c55-8731-6798c14fb8f2",
   "metadata": {},
   "outputs": [],
   "source": [
    "\n",
    "sales_profit_by_segment = data.groupby('Segment').agg({'Sales': 'sum', 'Profit': 'sum'}).reset_index()\n",
    "sales_profit_by_segment['Sales_to_Profit_Ratio'] = sales_profit_by_segment['Sales'] / sales_profit_by_segment['Profit']\n",
    "print(sales_profit_by_segment[['Segment', 'Sales_to_Profit_Ratio']])\n"
   ]
  },
  {
   "cell_type": "code",
   "execution_count": null,
   "id": "ebd11e98-c60a-4c90-90a0-da3ca7f6755b",
   "metadata": {},
   "outputs": [],
   "source": []
  }
 ],
 "metadata": {
  "kernelspec": {
   "display_name": "Python 3 (ipykernel)",
   "language": "python",
   "name": "python3"
  },
  "language_info": {
   "codemirror_mode": {
    "name": "ipython",
    "version": 3
   },
   "file_extension": ".py",
   "mimetype": "text/x-python",
   "name": "python",
   "nbconvert_exporter": "python",
   "pygments_lexer": "ipython3",
   "version": "3.13.2"
  }
 },
 "nbformat": 4,
 "nbformat_minor": 5
}
